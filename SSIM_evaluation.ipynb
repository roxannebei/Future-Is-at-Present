{
 "cells": [
  {
   "cell_type": "code",
   "execution_count": null,
   "metadata": {
    "id": "rkzpSI5kp7dx"
   },
   "outputs": [],
   "source": [
    "import tensorflow as tf\n",
    "print(tf.__version__)\n",
    "\n",
    "import keras\n",
    "from keras.layers import Input, Dense, Conv2D, Reshape, BatchNormalization, LeakyReLU, Conv2DTranspose\n",
    "from keras.layers import Flatten, Reshape, LSTM\n",
    "from keras.models import Model, Sequential\n",
    "from keras.datasets import mnist\n",
    "from keras.losses import binary_crossentropy\n",
    "from keras import backend as K\n",
    "from keras.optimizers import RMSprop, Adam\n",
    "\n",
    "import numpy as np\n",
    "import matplotlib.pyplot as plt \n",
    "import cv2\n",
    "import skimage\n",
    "import imutils\n",
    "%matplotlib inline\n",
    "\n",
    "np.random.seed(42)\n",
    "\n",
    "from imutils import face_utils\n",
    "import numpy as np\n",
    "import argparse\n",
    "import imutils\n",
    "import dlib\n",
    "import cv2\n",
    "\n",
    "from skimage import img_as_float\n",
    "from skimage.metrics import structural_similarity as ssim"
   ]
  },
  {
   "cell_type": "code",
   "execution_count": null,
   "metadata": {
    "id": "5Qr0IKDosNB9"
   },
   "outputs": [],
   "source": [
    "# load some intermediate and final results for evaluation\n",
    "\n",
    "# load the cropped data\n",
    "data = np.load(\"/content/drive/MyDrive/cropped_data_large_fixed.npy\")\n",
    "\n",
    "# load the model and pre-trained weights\n",
    "loaded_decoder = keras.models.load_model(\"/content/drive/MyDrive/gray_decoder_L8_Fixedcropped\")\n",
    "loaded_decoder.load_weights(\"/content/drive/MyDrive/decoder_gray_model_L8_Fixedcropped_weights.h5\")\n",
    "# loaded_decoder = keras.models.load_model(\"gray_decoder.h5\")\n",
    "\n",
    "# load the latent space representation\n",
    "data_time = np.load(\"/content/drive/MyDrive/latent_space_representation_gray_L8_Fixedcropped.npy\")\n",
    "\n",
    "# load the prediction in the extend interval\n",
    "y_pred_extend = np.load(\"/content/drive/MyDrive/y_pred_extend_Fixed8-1000-01.npy\")"
   ]
  },
  {
   "cell_type": "code",
   "execution_count": null,
   "metadata": {
    "id": "LpfnqauRsmSg"
   },
   "outputs": [],
   "source": [
    "# reconstruction and prediction\n",
    "\n",
    "latent_space = 8\n",
    "\n",
    "regen = []\n",
    "\n",
    "for i in range(9000):\n",
    "    latent = y_pred_extend[i]\n",
    "    latent = np.reshape(latent, (1, latent_space))\n",
    "    reconstruction = loaded_decoder.predict(latent)\n",
    "    reconstruction = np.reshape(reconstruction, (reconstruction.shape[1], reconstruction.shape[2]))\n",
    "    reconstruction = (reconstruction * 255).astype(\"uint8\")\n",
    "    regen.append(reconstruction)\n",
    "\n",
    "# save the result\n",
    "#np.save(\"/content/drive/MyDrive/compare_regen_grayLarge.npy\",regen)"
   ]
  },
  {
   "cell_type": "code",
   "execution_count": null,
   "metadata": {
    "id": "reCTWJtStC4f"
   },
   "outputs": [],
   "source": [
    "regen = np.load(\"/content/drive/MyDrive/compare_regen_grayLarge.npy\")"
   ]
  },
  {
   "cell_type": "markdown",
   "metadata": {
    "id": "Cccte_uF3m0L"
   },
   "source": [
    "<h1><b>Conduct SSIM evaluation on the whole face (280*275)</h1></b>"
   ]
  },
  {
   "cell_type": "code",
   "execution_count": null,
   "metadata": {
    "id": "5bP34xwdtJ32"
   },
   "outputs": [],
   "source": [
    "# calculate the SSIM value for each frame\n",
    "ssim_list = []\n",
    "x = []\n",
    "\n",
    "for i in range(data.shape[0]):\n",
    "  ssim_list.append(ssim(img_as_float(data[i]), img_as_float(regen[i])))\n",
    "  x.append(i)"
   ]
  },
  {
   "cell_type": "code",
   "execution_count": null,
   "metadata": {
    "id": "TFcBQtw13XZ9"
   },
   "outputs": [],
   "source": [
    "# plot and save the SSIM value for evaluating the performance of reconstruction and prediction\n",
    "plt.figure(figsize=(24,8))\n",
    "plt.plot(x[0:7000], ssim_list[0:7000], label = 'reconstruction', c = 'cornflowerblue')\n",
    "plt.plot(x[7000:7428], ssim_list[7000:7428], label = 'prediction', c = 'mediumpurple')\n",
    "plt.title('Image similarity between the ground truth and the regeneration/prediction', fontsize = 14)\n",
    "plt.ylabel('SSIM value', fontsize = 14)\n",
    "plt.xlabel('Frame number', fontsize = 14)\n",
    "plt.legend(loc = 'lower left', fontsize = 14)\n",
    "plt.show()\n",
    "#plt.savefig(\"filename.png\")"
   ]
  },
  {
   "cell_type": "markdown",
   "metadata": {
    "id": "vgcOjeYd3r83"
   },
   "source": [
    "<h1><b>Conduct the SSIM evaluation on some parts of the face<\\h1><\\b>"
   ]
  },
  {
   "cell_type": "code",
   "execution_count": null,
   "metadata": {
    "id": "bpk4lM3k40xB"
   },
   "outputs": [],
   "source": [
    "# plot the selected parts\n",
    "# by using a software named Fiji, we obtained the coordinates for corresponding regions\n",
    "\n",
    "plt.figure(figsize=(20,8))\n",
    "img = data[7427]\n",
    "\n",
    "plt.subplot(241)\n",
    "x, y, w, h = 37, 91, 195, 49\n",
    "plt.title('eyes', fontsize = 14)\n",
    "plt.imshow(img[y:y+h, x:x+w], cmap = 'gray')\n",
    "\n",
    "plt.subplot(242)\n",
    "x, y, w, h = 80, 136, 114, 50\n",
    "plt.title('nose', fontsize = 14)\n",
    "plt.imshow(img[y:y+h, x:x+w], cmap = 'gray')\n",
    "\n",
    "plt.subplot(243)\n",
    "x, y, w, h= 71, 188, 124, 56\n",
    "plt.title('mouth', fontsize = 14)\n",
    "plt.imshow(img[y:y+h, x:x+w], cmap = 'gray')\n",
    "\n",
    "plt.subplot(244)\n",
    "x, y, w, h = 45, 137, 55, 66\n",
    "plt.title('face', fontsize = 14)\n",
    "plt.imshow(img[y:y+h, x:x+w], cmap = 'gray')\n",
    "\n",
    "plt.subplot(245)\n",
    "x, y, w, h = 0, 104, 37, 96\n",
    "plt.title('left ear', fontsize = 14)\n",
    "plt.imshow(img[y:y+h, x:x+w], cmap = 'gray')\n",
    "\n",
    "plt.subplot(246)\n",
    "x, y, w, h = 237, 106, 38, 96\n",
    "plt.title('right ear', fontsize = 14)\n",
    "plt.imshow(img[y:y+h, x:x+w], cmap = 'gray')"
   ]
  },
  {
   "cell_type": "code",
   "execution_count": null,
   "metadata": {
    "id": "6X6KBR683eTN"
   },
   "outputs": [],
   "source": [
    "def get_partial_SSIM (region):\n",
    "    if region == 'eye':\n",
    "        x, y, w, h = 37, 91, 195, 49\n",
    "    if region == 'nose':\n",
    "        x, y, w, h = 80, 136, 114, 50\n",
    "    if region == 'mouth':\n",
    "        x, y, w, h= 71, 188, 124, 56\n",
    "    if region == 'face':\n",
    "        x, y, w, h = 45, 137, 55, 66\n",
    "    if region == 'left_ear':\n",
    "        x, y, w, h = 0, 104, 37, 96\n",
    "    if region == 'right_ear':\n",
    "        x, y, w, h = 237, 106, 38, 96\n",
    "\n",
    "    ssim_partial = []\n",
    "  \n",
    "    for i in range(7000, data.shape[0]):\n",
    "        ground_truth = data[i][y:y+h, x:x+w]\n",
    "        pred = regen[i][y:y+h, x:x+w]\n",
    "        ssim_partial.append(ssim(img_as_float(ground_truth), img_as_float(pred)))\n",
    "    return ssim_partial"
   ]
  },
  {
   "cell_type": "code",
   "execution_count": null,
   "metadata": {
    "id": "e1Id87Ru4SLS"
   },
   "outputs": [],
   "source": [
    "# x-axis\n",
    "xx = []\n",
    "for i in range(7000, data.shape[0]):\n",
    "    xx.append(i)"
   ]
  },
  {
   "cell_type": "code",
   "execution_count": null,
   "metadata": {
    "id": "aYkLrVIt4Xb3"
   },
   "outputs": [],
   "source": [
    "# plot the score of parts where the SSIM score is higher than the face as a whole\n",
    "plt.figure(figsize=(25,8))\n",
    "plt.plot(xx, ssim_list[7000: data.shape[0]], label = 'all', linewidth = 4, c = 'dimgray')\n",
    "plt.plot(xx, get_partial_SSIM('eye'), label = 'eye')\n",
    "plt.plot(xx, get_partial_SSIM('nose'), label = 'nose')\n",
    "plt.plot(xx, get_partial_SSIM('mouth'), label = 'mouth')\n",
    "plt.plot(xx, get_partial_SSIM('face'), label = 'face')\n",
    "plt.title('Image similarity between the ground truth and the prediction (after the 7000 frame)', fontsize = 14)\n",
    "plt.ylabel('SSIM value', fontsize = 14)\n",
    "plt.xlabel('Frame number', fontsize = 14)\n",
    "plt.legend(loc = 'lower left', fontsize = 14)\n",
    "plt.show()\n"
   ]
  },
  {
   "cell_type": "code",
   "execution_count": null,
   "metadata": {
    "id": "C58kzhH94aCR"
   },
   "outputs": [],
   "source": [
    "# plot the score of parts where the SSIM score is lower than the face as a whole\n",
    "plt.figure(figsize=(25,8))\n",
    "plt.plot(xx, ssim_list[7000: data.shape[0]], label = 'all', linewidth = 4, c = 'dimgray')\n",
    "plt.plot(xx, get_partial_SSIM('left_ear'), label = 'left ear', c = 'pink')\n",
    "plt.plot(xx, get_partial_SSIM('right_ear'), label = 'right ear', c = 'c')\n",
    "plt.title('Image similarity between the ground truth and the prediction (after the 7000 frame)', fontsize = 14)\n",
    "plt.ylabel('SSIM value', fontsize = 14)\n",
    "plt.xlabel('Frame number', fontsize = 14)\n",
    "plt.legend(loc = 'lower left', fontsize = 14)\n",
    "plt.show()\n"
   ]
  }
 ],
 "metadata": {
  "colab": {
   "name": "SSIM_evaluation.ipynb",
   "provenance": []
  },
  "kernelspec": {
   "display_name": "Python 3",
   "language": "python",
   "name": "python3"
  },
  "language_info": {
   "codemirror_mode": {
    "name": "ipython",
    "version": 3
   },
   "file_extension": ".py",
   "mimetype": "text/x-python",
   "name": "python",
   "nbconvert_exporter": "python",
   "pygments_lexer": "ipython3",
   "version": "3.7.6"
  }
 },
 "nbformat": 4,
 "nbformat_minor": 1
}
