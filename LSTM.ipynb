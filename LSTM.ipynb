{
 "cells": [
  {
   "cell_type": "code",
   "execution_count": null,
   "metadata": {
    "colab": {
     "base_uri": "https://localhost:8080/"
    },
    "id": "Z_li1dRIHbyV",
    "outputId": "fea910ed-0cd0-489c-b6a2-01d73aef3047"
   },
   "outputs": [],
   "source": [
    "import tensorflow as tf\n",
    "print(tf.__version__)\n",
    "\n",
    "import keras\n",
    "from keras.layers import Input, Dense\n",
    "from keras.layers import Flatten, Reshape, LSTM\n",
    "from keras.models import Model, Sequential\n",
    "from keras.datasets import mnist\n",
    "from keras.losses import binary_crossentropy\n",
    "from keras import backend as K\n",
    "from keras.optimizers import RMSprop, Adam\n",
    "\n",
    "import numpy as np\n",
    "import matplotlib.pyplot as plt \n",
    "import cv2\n",
    "import skimage\n",
    "import imutils\n",
    "%matplotlib inline\n",
    "\n",
    "np.random.seed(42)"
   ]
  },
  {
   "cell_type": "code",
   "execution_count": null,
   "metadata": {
    "id": "skjeACkCGzUA"
   },
   "outputs": [],
   "source": [
    "# load data form npy file\n",
    "data_time = np.load(\"/content/drive/MyDrive/stats402_data/latent_space_representation_gray_evolutionL8_cropped.npy\")"
   ]
  },
  {
   "cell_type": "code",
   "execution_count": null,
   "metadata": {
    "colab": {
     "base_uri": "https://localhost:8080/"
    },
    "id": "mubyRaboG1om",
    "outputId": "671cc65b-25ca-4aa2-d7b1-50bfef3a1026"
   },
   "outputs": [],
   "source": [
    "x = data_time[:, 0]\n",
    "y = data_time[:, 1::]\n",
    "x = np.reshape(x, (x.shape[0], 1))\n",
    "\n",
    "train_sample = 3500\n",
    "x_train = x[0:train_sample, :]\n",
    "y_train = y[0:train_sample, :]\n",
    "\n",
    "# reshape x for training \n",
    "x_train = np.reshape(x_train, (x_train.shape[0], 1, x_train.shape[1]))\n",
    "\n",
    "print(x_train.shape)\n",
    "print(y_train.shape)"
   ]
  },
  {
   "cell_type": "code",
   "execution_count": null,
   "metadata": {
    "colab": {
     "base_uri": "https://localhost:8080/"
    },
    "id": "BAxn_KJeGqwG",
    "outputId": "4500d5ac-1841-462b-f255-9f6bf7799956"
   },
   "outputs": [],
   "source": [
    "step = 1\n",
    "\n",
    "model_LSTM = Sequential()\n",
    "model_LSTM.add(LSTM(128, input_shape=(1, step), return_sequences=True, activation='relu'))\n",
    "model_LSTM.add(LSTM(128, return_sequences=True, activation='relu'))\n",
    "model_LSTM.add(LSTM(256, return_sequences=True, activation='relu'))\n",
    "model_LSTM.add(LSTM(256, activation='relu'))\n",
    "model_LSTM.add(Dense(y_train.shape[1]))\n",
    "\n",
    "model_LSTM.compile(loss='mean_squared_error', optimizer=Adam(lr=0.00001))\n",
    "model_LSTM.summary()"
   ]
  },
  {
   "cell_type": "code",
   "execution_count": null,
   "metadata": {
    "colab": {
     "base_uri": "https://localhost:8080/"
    },
    "id": "abrAZQRyG6le",
    "outputId": "c810df22-a111-427f-a9f7-eda990ad610a"
   },
   "outputs": [],
   "source": [
    "epochs = 400\n",
    "batch_size = 128\n",
    "\n",
    "history = model_LSTM.fit(x_train, y_train,\n",
    "                    epochs = epochs,\n",
    "                    batch_size = batch_size)"
   ]
  },
  {
   "cell_type": "code",
   "execution_count": null,
   "metadata": {
    "colab": {
     "base_uri": "https://localhost:8080/",
     "height": 1000
    },
    "id": "DDBFRMwhG9Wb",
    "outputId": "f7b4f227-e414-4e7b-c392-1bc651ebde05"
   },
   "outputs": [],
   "source": [
    "# plot the traning data and the prediction \n",
    "\n",
    "num = 6000\n",
    "\n",
    "x_range_train = np.arange(3500)\n",
    "x_range_extend = np.arange(num)\n",
    "\n",
    "x_range_extend_reshape = np.reshape(x_range_extend, (num, 1, 1))\n",
    "\n",
    "y_pred_extend = model_LSTM.predict(x_range_extend_reshape)\n",
    "\n",
    "\n",
    "plt.figure(figsize=(10, 20))\n",
    "\n",
    "for i in range(8):\n",
    "    plt.subplot(8, 1, i+1)\n",
    "    plt.plot(x_range_train, y_train[:,i], 'b', label='training')\n",
    "    plt.plot(x_range_extend, y_pred_extend[:,i], 'g', label='predicted')\n",
    "    plt.legend()\n",
    "    plt.xlabel('x')\n",
    "    plt.ylabel('y')\n",
    "\n",
    "plt.show()\n"
   ]
  },
  {
   "cell_type": "code",
   "execution_count": null,
   "metadata": {
    "id": "80VkFd_1HVjt"
   },
   "outputs": [],
   "source": [
    "# save the predicted representations to npy file\n",
    "\n",
    "np.save(\"/content/drive/MyDrive/stats402_data/predicted_envolving_large_representation_B_channel.npy\", y_pred_extend)"
   ]
  }
 ],
 "metadata": {
  "accelerator": "GPU",
  "colab": {
   "name": "seperate_lstm.ipynb",
   "provenance": []
  },
  "kernelspec": {
   "display_name": "Python 3",
   "language": "python",
   "name": "python3"
  },
  "language_info": {
   "codemirror_mode": {
    "name": "ipython",
    "version": 3
   },
   "file_extension": ".py",
   "mimetype": "text/x-python",
   "name": "python",
   "nbconvert_exporter": "python",
   "pygments_lexer": "ipython3",
   "version": "3.7.6"
  }
 },
 "nbformat": 4,
 "nbformat_minor": 1
}
